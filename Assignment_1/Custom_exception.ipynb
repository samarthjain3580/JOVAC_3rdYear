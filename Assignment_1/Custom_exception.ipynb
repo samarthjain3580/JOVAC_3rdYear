{
 "cells": [
  {
   "cell_type": "markdown",
   "id": "d3635639",
   "metadata": {},
   "source": [
    "Make a custom exception\n",
    "Make a 2-d array and read and write it in a csv format"
   ]
  },
  {
   "cell_type": "code",
   "execution_count": 3,
   "id": "dda7a37f",
   "metadata": {},
   "outputs": [],
   "source": [
    "# 1. Make a custom exception\n",
    "class InvalidInputError(Exception):\n",
    "    def __init__(self, message=\"Invalid input provided!\"):\n",
    "        super().__init__(message)\n",
    "\n",
    "def divide_numbers(a, b):\n",
    "    try:\n",
    "        if not isinstance(a, (int, float)) or not isinstance(b, (int, float)):\n",
    "            raise InvalidInputError(\"Both inputs must be numbers.\")  # raise custom exception\n",
    "\n",
    "        result = a / b  # Might raise ZeroDivisionError\n",
    "    except InvalidInputError as e:\n",
    "        print(f\"Custom Error: {e}\")\n",
    "        raise  # 2. Re-raises the same exception\n",
    "    except ZeroDivisionError:\n",
    "        print(\"Error: Cannot divide by zero.\")\n",
    "    else:\n",
    "        # 3. This block runs only if no exception was raised\n",
    "        print(\"Division successful. Result =\", result)\n",
    "    finally:\n",
    "        # 4. This block always runs, no matter what\n",
    "        print(\"Execution completed.\")\n"
   ]
  },
  {
   "cell_type": "code",
   "execution_count": 4,
   "id": "ed28d238",
   "metadata": {},
   "outputs": [
    {
     "name": "stdout",
     "output_type": "stream",
     "text": [
      "Division successful. Result = 5.0\n",
      "Execution completed.\n",
      "---\n",
      "Error: Cannot divide by zero.\n",
      "Execution completed.\n",
      "---\n",
      "Custom Error: Both inputs must be numbers.\n",
      "Execution completed.\n"
     ]
    },
    {
     "ename": "InvalidInputError",
     "evalue": "Both inputs must be numbers.",
     "output_type": "error",
     "traceback": [
      "\u001b[1;31m---------------------------------------------------------------------------\u001b[0m",
      "\u001b[1;31mInvalidInputError\u001b[0m                         Traceback (most recent call last)",
      "Cell \u001b[1;32mIn[4], line 6\u001b[0m\n\u001b[0;32m      4\u001b[0m divide_numbers(\u001b[38;5;241m10\u001b[39m, \u001b[38;5;241m0\u001b[39m)    \u001b[38;5;66;03m# ❌ ZeroDivisionError\u001b[39;00m\n\u001b[0;32m      5\u001b[0m \u001b[38;5;28mprint\u001b[39m(\u001b[38;5;124m\"\u001b[39m\u001b[38;5;124m---\u001b[39m\u001b[38;5;124m\"\u001b[39m)\n\u001b[1;32m----> 6\u001b[0m \u001b[43mdivide_numbers\u001b[49m\u001b[43m(\u001b[49m\u001b[38;5;241;43m10\u001b[39;49m\u001b[43m,\u001b[49m\u001b[43m \u001b[49m\u001b[38;5;124;43m'\u001b[39;49m\u001b[38;5;124;43ma\u001b[39;49m\u001b[38;5;124;43m'\u001b[39;49m\u001b[43m)\u001b[49m  \u001b[38;5;66;03m# ❌ Custom InvalidInputError\u001b[39;00m\n",
      "Cell \u001b[1;32mIn[3], line 9\u001b[0m, in \u001b[0;36mdivide_numbers\u001b[1;34m(a, b)\u001b[0m\n\u001b[0;32m      7\u001b[0m \u001b[38;5;28;01mtry\u001b[39;00m:\n\u001b[0;32m      8\u001b[0m     \u001b[38;5;28;01mif\u001b[39;00m \u001b[38;5;129;01mnot\u001b[39;00m \u001b[38;5;28misinstance\u001b[39m(a, (\u001b[38;5;28mint\u001b[39m, \u001b[38;5;28mfloat\u001b[39m)) \u001b[38;5;129;01mor\u001b[39;00m \u001b[38;5;129;01mnot\u001b[39;00m \u001b[38;5;28misinstance\u001b[39m(b, (\u001b[38;5;28mint\u001b[39m, \u001b[38;5;28mfloat\u001b[39m)):\n\u001b[1;32m----> 9\u001b[0m         \u001b[38;5;28;01mraise\u001b[39;00m InvalidInputError(\u001b[38;5;124m\"\u001b[39m\u001b[38;5;124mBoth inputs must be numbers.\u001b[39m\u001b[38;5;124m\"\u001b[39m)  \u001b[38;5;66;03m# raise custom exception\u001b[39;00m\n\u001b[0;32m     11\u001b[0m     result \u001b[38;5;241m=\u001b[39m a \u001b[38;5;241m/\u001b[39m b  \u001b[38;5;66;03m# Might raise ZeroDivisionError\u001b[39;00m\n\u001b[0;32m     12\u001b[0m \u001b[38;5;28;01mexcept\u001b[39;00m InvalidInputError \u001b[38;5;28;01mas\u001b[39;00m e:\n",
      "\u001b[1;31mInvalidInputError\u001b[0m: Both inputs must be numbers."
     ]
    }
   ],
   "source": [
    "# Test cases\n",
    "divide_numbers(10, 2)    # ✅ Normal case\n",
    "print(\"---\")\n",
    "divide_numbers(10, 0)    # ❌ ZeroDivisionError\n",
    "print(\"---\")\n",
    "divide_numbers(10, 'a')  # ❌ Custom InvalidInputError"
   ]
  },
  {
   "cell_type": "code",
   "execution_count": 5,
   "id": "21764ace",
   "metadata": {},
   "outputs": [],
   "source": [
    "# 2. Create a 2D array\n",
    "\n",
    "import numpy as np\n",
    "\n",
    "data_2d =np.array([\n",
    "    [1, 2, 3],\n",
    "    [4, 5, 6],\n",
    "    [7, 8, 9]\n",
    "])"
   ]
  },
  {
   "cell_type": "code",
   "execution_count": 6,
   "id": "6435eee7",
   "metadata": {},
   "outputs": [],
   "source": [
    "# 3. write it in csv format\n",
    "\n",
    "np.savetxt(\"my_array.csv\", data_2d, delimiter=\",\")"
   ]
  },
  {
   "cell_type": "code",
   "execution_count": 7,
   "id": "457e443a",
   "metadata": {},
   "outputs": [
    {
     "data": {
      "text/plain": [
       "array([[1., 2., 3.],\n",
       "       [4., 5., 6.],\n",
       "       [7., 8., 9.]])"
      ]
     },
     "execution_count": 7,
     "metadata": {},
     "output_type": "execute_result"
    }
   ],
   "source": [
    "# 4. read it back from csv format\n",
    "\n",
    "loaded_data = np.loadtxt(\"my_array.csv\", delimiter=\",\")\n",
    "loaded_data"
   ]
  }
 ],
 "metadata": {
  "kernelspec": {
   "display_name": "Python 3",
   "language": "python",
   "name": "python3"
  },
  "language_info": {
   "codemirror_mode": {
    "name": "ipython",
    "version": 3
   },
   "file_extension": ".py",
   "mimetype": "text/x-python",
   "name": "python",
   "nbconvert_exporter": "python",
   "pygments_lexer": "ipython3",
   "version": "3.11.4"
  }
 },
 "nbformat": 4,
 "nbformat_minor": 5
}
