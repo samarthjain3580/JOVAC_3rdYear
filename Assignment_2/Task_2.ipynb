{
 "cells": [
  {
   "cell_type": "code",
   "execution_count": 7,
   "id": "028ac1d0",
   "metadata": {},
   "outputs": [],
   "source": [
    "import numpy as np"
   ]
  },
  {
   "cell_type": "markdown",
   "id": "c6243a04",
   "metadata": {},
   "source": [
    "1. Create a NumPy array from the following list:\n",
    "\n",
    "data = [10, 20, 30, 40, 50, 60, 70, 80, 90]"
   ]
  },
  {
   "cell_type": "code",
   "execution_count": 8,
   "id": "6cc0483c",
   "metadata": {},
   "outputs": [
    {
     "data": {
      "text/plain": [
       "array([10, 20, 30, 40, 50, 60, 70, 80, 90])"
      ]
     },
     "execution_count": 8,
     "metadata": {},
     "output_type": "execute_result"
    }
   ],
   "source": [
    "data = [10, 20, 30, 40, 50, 60, 70, 80, 90]\n",
    "arr = np.array(data)\n",
    "arr"
   ]
  },
  {
   "cell_type": "markdown",
   "id": "e4432c09",
   "metadata": {},
   "source": [
    "2. Write a Python program to:\n",
    "\n",
    "A. Retrieve the first three elements of the array."
   ]
  },
  {
   "cell_type": "code",
   "execution_count": 9,
   "id": "7307d7c2",
   "metadata": {},
   "outputs": [
    {
     "data": {
      "text/plain": [
       "array([10, 20, 30])"
      ]
     },
     "execution_count": 9,
     "metadata": {},
     "output_type": "execute_result"
    }
   ],
   "source": [
    "arr[:3]"
   ]
  },
  {
   "cell_type": "markdown",
   "id": "95b5191e",
   "metadata": {},
   "source": [
    "B. Retrieve every alternate element of the array."
   ]
  },
  {
   "cell_type": "code",
   "execution_count": 10,
   "id": "475a9db6",
   "metadata": {},
   "outputs": [
    {
     "data": {
      "text/plain": [
       "array([10, 30, 50, 70, 90])"
      ]
     },
     "execution_count": 10,
     "metadata": {},
     "output_type": "execute_result"
    }
   ],
   "source": [
    "arr[::2]"
   ]
  },
  {
   "cell_type": "markdown",
   "id": "27987e6c",
   "metadata": {},
   "source": [
    "C. Reverse the array."
   ]
  },
  {
   "cell_type": "code",
   "execution_count": 11,
   "id": "5ef6c615",
   "metadata": {},
   "outputs": [
    {
     "data": {
      "text/plain": [
       "array([90, 80, 70, 60, 50, 40, 30, 20, 10])"
      ]
     },
     "execution_count": 11,
     "metadata": {},
     "output_type": "execute_result"
    }
   ],
   "source": [
    "arr[::-1]"
   ]
  }
 ],
 "metadata": {
  "kernelspec": {
   "display_name": "Python 3",
   "language": "python",
   "name": "python3"
  },
  "language_info": {
   "codemirror_mode": {
    "name": "ipython",
    "version": 3
   },
   "file_extension": ".py",
   "mimetype": "text/x-python",
   "name": "python",
   "nbconvert_exporter": "python",
   "pygments_lexer": "ipython3",
   "version": "3.11.4"
  }
 },
 "nbformat": 4,
 "nbformat_minor": 5
}
