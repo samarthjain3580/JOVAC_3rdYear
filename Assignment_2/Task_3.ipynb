{
 "cells": [
  {
   "cell_type": "code",
   "execution_count": 14,
   "id": "aa9f30ff",
   "metadata": {},
   "outputs": [],
   "source": [
    "import numpy as np"
   ]
  },
  {
   "cell_type": "markdown",
   "id": "0ca70174",
   "metadata": {},
   "source": [
    "1. Create two NumPy arrays, A and B, each with 5 random integers\n",
    "between 1 and 20."
   ]
  },
  {
   "cell_type": "code",
   "execution_count": 15,
   "id": "b4145c57",
   "metadata": {},
   "outputs": [],
   "source": [
    "A = np.random.randint(1, 21, 5)\n",
    "B = np.random.randint(1, 21, 5)"
   ]
  },
  {
   "cell_type": "code",
   "execution_count": 16,
   "id": "31c129e4",
   "metadata": {},
   "outputs": [
    {
     "data": {
      "text/plain": [
       "array([ 9, 15, 19, 12, 13])"
      ]
     },
     "execution_count": 16,
     "metadata": {},
     "output_type": "execute_result"
    }
   ],
   "source": [
    "A"
   ]
  },
  {
   "cell_type": "code",
   "execution_count": 17,
   "id": "d6b6c414",
   "metadata": {},
   "outputs": [
    {
     "data": {
      "text/plain": [
       "array([ 7,  4, 13, 12,  7])"
      ]
     },
     "execution_count": 17,
     "metadata": {},
     "output_type": "execute_result"
    }
   ],
   "source": [
    "B"
   ]
  },
  {
   "cell_type": "markdown",
   "id": "de9ef346",
   "metadata": {},
   "source": [
    "2. Write a Python program to:\n",
    "\n",
    "A.Add, subtract, multiply, and divide the two arrays elementwise."
   ]
  },
  {
   "cell_type": "code",
   "execution_count": 18,
   "id": "580d32dd",
   "metadata": {},
   "outputs": [
    {
     "name": "stdout",
     "output_type": "stream",
     "text": [
      "Addition: [16 19 32 24 20]\n",
      "Subtraction: [ 2 11  6  0  6]\n",
      "Multiplication: [ 63  60 247 144  91]\n",
      "Division: [1.28571429 3.75       1.46153846 1.         1.85714286]\n"
     ]
    }
   ],
   "source": [
    "print(\"Addition:\", A + B)\n",
    "print(\"Subtraction:\", A - B)\n",
    "print(\"Multiplication:\", A * B)\n",
    "print(\"Division:\", A / B)"
   ]
  },
  {
   "cell_type": "markdown",
   "id": "d697df23",
   "metadata": {},
   "source": [
    "B.Compute the dot product of the arrays."
   ]
  },
  {
   "cell_type": "code",
   "execution_count": 19,
   "id": "7c01c9b9",
   "metadata": {},
   "outputs": [
    {
     "data": {
      "text/plain": [
       "605"
      ]
     },
     "execution_count": 19,
     "metadata": {},
     "output_type": "execute_result"
    }
   ],
   "source": [
    "np.dot(A,B)"
   ]
  },
  {
   "cell_type": "markdown",
   "id": "14501e71",
   "metadata": {},
   "source": [
    "C.Find the mean, median, standard deviation, and variance of\n",
    "array A."
   ]
  },
  {
   "cell_type": "code",
   "execution_count": 20,
   "id": "70197c8b",
   "metadata": {},
   "outputs": [
    {
     "name": "stdout",
     "output_type": "stream",
     "text": [
      "Mean of A: 13.6\n",
      "Median of A: 13.0\n",
      "Std Dev of A: 3.32264954516723\n",
      "Variance of A: 11.040000000000001\n"
     ]
    }
   ],
   "source": [
    "print(\"Mean of A:\", np.mean(A))\n",
    "print(\"Median of A:\", np.median(A))\n",
    "print(\"Std Dev of A:\", np.std(A))\n",
    "print(\"Variance of A:\", np.var(A))"
   ]
  },
  {
   "cell_type": "markdown",
   "id": "5a2e2c73",
   "metadata": {},
   "source": [
    "D.Identify the maximum and minimum values in array B and\n",
    "their indices."
   ]
  },
  {
   "cell_type": "code",
   "execution_count": 21,
   "id": "405fcb81",
   "metadata": {},
   "outputs": [
    {
     "name": "stdout",
     "output_type": "stream",
     "text": [
      "Max in B: 13 at index 2\n",
      "Min in B: 4 at index 1\n"
     ]
    }
   ],
   "source": [
    "print(\"Max in B:\", np.max(B), \"at index\", np.argmax(B))\n",
    "print(\"Min in B:\", np.min(B), \"at index\", np.argmin(B))"
   ]
  }
 ],
 "metadata": {
  "kernelspec": {
   "display_name": "Python 3",
   "language": "python",
   "name": "python3"
  },
  "language_info": {
   "codemirror_mode": {
    "name": "ipython",
    "version": 3
   },
   "file_extension": ".py",
   "mimetype": "text/x-python",
   "name": "python",
   "nbconvert_exporter": "python",
   "pygments_lexer": "ipython3",
   "version": "3.11.4"
  }
 },
 "nbformat": 4,
 "nbformat_minor": 5
}
