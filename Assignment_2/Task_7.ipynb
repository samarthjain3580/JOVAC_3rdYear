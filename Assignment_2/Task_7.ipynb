{
 "cells": [
  {
   "cell_type": "code",
   "execution_count": 43,
   "id": "af0622c1",
   "metadata": {},
   "outputs": [],
   "source": [
    "import numpy as np\n",
    "import time"
   ]
  },
  {
   "cell_type": "code",
   "execution_count": 44,
   "id": "4dfb38ef",
   "metadata": {},
   "outputs": [],
   "source": [
    "start = time.time()"
   ]
  },
  {
   "cell_type": "markdown",
   "id": "7fe542a5",
   "metadata": {},
   "source": [
    "1. Create a Python program that:\n",
    "\n",
    "A. Generates two large random arrays of size (100, 100)."
   ]
  },
  {
   "cell_type": "code",
   "execution_count": 45,
   "id": "6557b5bd",
   "metadata": {},
   "outputs": [],
   "source": [
    "A = np.random.rand(100, 100)\n",
    "B = np.random.rand(100, 100)"
   ]
  },
  {
   "cell_type": "markdown",
   "id": "5b7f9db1",
   "metadata": {},
   "source": [
    "B. Performs matrix multiplication on the two arrays."
   ]
  },
  {
   "cell_type": "code",
   "execution_count": 46,
   "id": "7226cb74",
   "metadata": {},
   "outputs": [
    {
     "data": {
      "text/plain": [
       "array([[23.7705991 , 24.14381892, 22.73294076, ..., 24.04450991,\n",
       "        25.28237086, 27.92734456],\n",
       "       [24.13071038, 28.07442011, 26.08307806, ..., 22.10613376,\n",
       "        24.8302471 , 28.13650032],\n",
       "       [22.69894913, 26.4895522 , 23.42037374, ..., 23.1805338 ,\n",
       "        25.73173465, 27.24101207],\n",
       "       ...,\n",
       "       [22.92974517, 23.42351804, 24.14289056, ..., 22.30296098,\n",
       "        23.57384643, 25.80392736],\n",
       "       [21.49472939, 23.58318854, 20.92400306, ..., 21.46893201,\n",
       "        22.73387326, 25.73198769],\n",
       "       [22.09924966, 23.30154653, 22.98868086, ..., 22.55509051,\n",
       "        24.92196823, 27.19343768]])"
      ]
     },
     "execution_count": 46,
     "metadata": {},
     "output_type": "execute_result"
    }
   ],
   "source": [
    "arr_mul = np.matmul(A,B)\n",
    "arr_mul"
   ]
  },
  {
   "cell_type": "markdown",
   "id": "63b8880e",
   "metadata": {},
   "source": [
    "C. Finds the determinant and inverse of the resulting matrix (if\n",
    "possible)."
   ]
  },
  {
   "cell_type": "code",
   "execution_count": 47,
   "id": "ef093940",
   "metadata": {},
   "outputs": [
    {
     "data": {
      "text/plain": [
       "3.7883223682515296e+48"
      ]
     },
     "execution_count": 47,
     "metadata": {},
     "output_type": "execute_result"
    }
   ],
   "source": [
    "#determinant\n",
    "\n",
    "np.linalg.det(arr_mul)"
   ]
  },
  {
   "cell_type": "code",
   "execution_count": 48,
   "id": "352eed72",
   "metadata": {},
   "outputs": [
    {
     "data": {
      "text/plain": [
       "array([[  0.33332838,   1.72400886,   0.3670701 , ...,  -0.12400241,\n",
       "         -0.43097945,   1.60139277],\n",
       "       [  2.04751812,  -4.10095079,   2.52454027, ..., -10.71901315,\n",
       "         -5.92031545,  -1.68609391],\n",
       "       [  1.2942359 ,  -1.78545839,   0.56798427, ...,  -3.61979953,\n",
       "         -2.46004469,   1.09593462],\n",
       "       ...,\n",
       "       [  0.48659605,   0.39669794,   1.34876838, ...,  -2.46860505,\n",
       "         -1.56054804,  -1.37112348],\n",
       "       [  1.63479107,  -1.56068225,   2.58937774, ...,  -8.96539507,\n",
       "         -4.80790781,  -1.02338373],\n",
       "       [  0.62241516,  -4.71113572,  -0.32934609, ...,  -0.42382997,\n",
       "         -1.43620821,  -3.54446963]])"
      ]
     },
     "execution_count": 48,
     "metadata": {},
     "output_type": "execute_result"
    }
   ],
   "source": [
    "#inverse\n",
    "\n",
    "np.linalg.inv(arr_mul)"
   ]
  },
  {
   "cell_type": "code",
   "execution_count": 49,
   "id": "e189012d",
   "metadata": {},
   "outputs": [],
   "source": [
    "end = time.time()"
   ]
  },
  {
   "cell_type": "markdown",
   "id": "a7a7f2a8",
   "metadata": {},
   "source": [
    "D. Measures the time taken to complete these operations."
   ]
  },
  {
   "cell_type": "code",
   "execution_count": 50,
   "id": "2c7b2e9c",
   "metadata": {},
   "outputs": [
    {
     "name": "stdout",
     "output_type": "stream",
     "text": [
      "0.5368773937225342 sec\n"
     ]
    }
   ],
   "source": [
    "print(end-start,\"sec\")"
   ]
  }
 ],
 "metadata": {
  "kernelspec": {
   "display_name": "Python 3",
   "language": "python",
   "name": "python3"
  },
  "language_info": {
   "codemirror_mode": {
    "name": "ipython",
    "version": 3
   },
   "file_extension": ".py",
   "mimetype": "text/x-python",
   "name": "python",
   "nbconvert_exporter": "python",
   "pygments_lexer": "ipython3",
   "version": "3.11.4"
  }
 },
 "nbformat": 4,
 "nbformat_minor": 5
}
