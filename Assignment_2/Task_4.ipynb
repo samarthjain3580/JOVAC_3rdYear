{
 "cells": [
  {
   "cell_type": "code",
   "execution_count": 10,
   "id": "5de41360",
   "metadata": {},
   "outputs": [],
   "source": [
    "import numpy as np"
   ]
  },
  {
   "cell_type": "markdown",
   "id": "64df5f4f",
   "metadata": {},
   "source": [
    "1. Create a 1D NumPy array of 12 integers ranging from 1 to 12."
   ]
  },
  {
   "cell_type": "code",
   "execution_count": 11,
   "id": "316357e9",
   "metadata": {},
   "outputs": [
    {
     "data": {
      "text/plain": [
       "array([ 1,  2,  3,  4,  5,  6,  7,  8,  9, 10, 11, 12])"
      ]
     },
     "execution_count": 11,
     "metadata": {},
     "output_type": "execute_result"
    }
   ],
   "source": [
    "arr = np.arange(1, 13)\n",
    "arr"
   ]
  },
  {
   "cell_type": "markdown",
   "id": "d7bdeb2c",
   "metadata": {},
   "source": [
    "2. Write a Python program to:\n",
    "\n",
    "A. Reshape the array into a 2D array of shape (4, 3)."
   ]
  },
  {
   "cell_type": "code",
   "execution_count": 12,
   "id": "2988802a",
   "metadata": {},
   "outputs": [
    {
     "data": {
      "text/plain": [
       "array([[ 1,  2,  3],\n",
       "       [ 4,  5,  6],\n",
       "       [ 7,  8,  9],\n",
       "       [10, 11, 12]])"
      ]
     },
     "execution_count": 12,
     "metadata": {},
     "output_type": "execute_result"
    }
   ],
   "source": [
    "arr_2 = arr.reshape(4, 3)\n",
    "arr_2"
   ]
  },
  {
   "cell_type": "markdown",
   "id": "6166c9b9",
   "metadata": {},
   "source": [
    "B. Reshape the array into a 3D array of shape (2, 2, 3)."
   ]
  },
  {
   "cell_type": "code",
   "execution_count": 13,
   "id": "575d7eac",
   "metadata": {},
   "outputs": [
    {
     "data": {
      "text/plain": [
       "array([[[ 1,  2,  3],\n",
       "        [ 4,  5,  6]],\n",
       "\n",
       "       [[ 7,  8,  9],\n",
       "        [10, 11, 12]]])"
      ]
     },
     "execution_count": 13,
     "metadata": {},
     "output_type": "execute_result"
    }
   ],
   "source": [
    "arr.reshape(2, 2, 3)"
   ]
  },
  {
   "cell_type": "markdown",
   "id": "f0020175",
   "metadata": {},
   "source": [
    "C. Transpose the reshaped 2D array and display its shape."
   ]
  },
  {
   "cell_type": "code",
   "execution_count": 14,
   "id": "cf947e8f",
   "metadata": {},
   "outputs": [
    {
     "data": {
      "text/plain": [
       "array([[ 1,  4,  7, 10],\n",
       "       [ 2,  5,  8, 11],\n",
       "       [ 3,  6,  9, 12]])"
      ]
     },
     "execution_count": 14,
     "metadata": {},
     "output_type": "execute_result"
    }
   ],
   "source": [
    "arr_2.T\n"
   ]
  },
  {
   "cell_type": "code",
   "execution_count": 15,
   "id": "3e4fd512",
   "metadata": {},
   "outputs": [
    {
     "data": {
      "text/plain": [
       "(3, 4)"
      ]
     },
     "execution_count": 15,
     "metadata": {},
     "output_type": "execute_result"
    }
   ],
   "source": [
    "arr_2.T.shape"
   ]
  }
 ],
 "metadata": {
  "kernelspec": {
   "display_name": "Python 3",
   "language": "python",
   "name": "python3"
  },
  "language_info": {
   "codemirror_mode": {
    "name": "ipython",
    "version": 3
   },
   "file_extension": ".py",
   "mimetype": "text/x-python",
   "name": "python",
   "nbconvert_exporter": "python",
   "pygments_lexer": "ipython3",
   "version": "3.11.4"
  }
 },
 "nbformat": 4,
 "nbformat_minor": 5
}
