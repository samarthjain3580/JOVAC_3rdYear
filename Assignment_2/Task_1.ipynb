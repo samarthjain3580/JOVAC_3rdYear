{
 "cells": [
  {
   "cell_type": "code",
   "execution_count": 11,
   "id": "fd2bb704",
   "metadata": {},
   "outputs": [],
   "source": [
    "import numpy as np"
   ]
  },
  {
   "cell_type": "markdown",
   "id": "9cf9dace",
   "metadata": {},
   "source": [
    "Write a Python program to:\n",
    "\n",
    "A. Create a 1D NumPy array of 10 integers ranging from 1 to 10."
   ]
  },
  {
   "cell_type": "code",
   "execution_count": 12,
   "id": "b70dfa6e",
   "metadata": {},
   "outputs": [
    {
     "data": {
      "text/plain": [
       "array([ 1,  2,  3,  4,  5,  6,  7,  8,  9, 10])"
      ]
     },
     "execution_count": 12,
     "metadata": {},
     "output_type": "execute_result"
    }
   ],
   "source": [
    "arr_1 = np.arange(1, 11)\n",
    "arr_1"
   ]
  },
  {
   "cell_type": "markdown",
   "id": "e3e49cf3",
   "metadata": {},
   "source": [
    "B. Create a 2D NumPy array of shape (3, 3) with integers from 1\n",
    "to 9."
   ]
  },
  {
   "cell_type": "code",
   "execution_count": 13,
   "id": "a8abed9d",
   "metadata": {},
   "outputs": [
    {
     "data": {
      "text/plain": [
       "array([[1, 2, 3],\n",
       "       [4, 5, 6],\n",
       "       [7, 8, 9]])"
      ]
     },
     "execution_count": 13,
     "metadata": {},
     "output_type": "execute_result"
    }
   ],
   "source": [
    "arr_2 = np.arange(1, 10).reshape(3, 3)\n",
    "arr_2"
   ]
  },
  {
   "cell_type": "markdown",
   "id": "3b869647",
   "metadata": {},
   "source": [
    "C. Create a 3D NumPy array with random floating-point numbers\n",
    "of shape (3, 5, 3)."
   ]
  },
  {
   "cell_type": "code",
   "execution_count": 14,
   "id": "aee31d7a",
   "metadata": {},
   "outputs": [
    {
     "data": {
      "text/plain": [
       "array([[[0.09339086, 0.91223658, 0.9034782 ],\n",
       "        [0.21345787, 0.19729722, 0.08818331],\n",
       "        [0.90003288, 0.90143755, 0.28409956],\n",
       "        [0.95714191, 0.1496182 , 0.47601461],\n",
       "        [0.64570009, 0.93387462, 0.27854489]],\n",
       "\n",
       "       [[0.0820775 , 0.1669673 , 0.71950738],\n",
       "        [0.74032569, 0.7305467 , 0.24046368],\n",
       "        [0.64240955, 0.05912513, 0.27992428],\n",
       "        [0.50452846, 0.71020465, 0.2984589 ],\n",
       "        [0.69117924, 0.20904287, 0.17292732]],\n",
       "\n",
       "       [[0.14641825, 0.90990665, 0.27210721],\n",
       "        [0.28762371, 0.24333131, 0.90403741],\n",
       "        [0.66940988, 0.16664107, 0.49872909],\n",
       "        [0.65850349, 0.83381727, 0.30705808],\n",
       "        [0.62443345, 0.29278461, 0.24278024]]])"
      ]
     },
     "execution_count": 14,
     "metadata": {},
     "output_type": "execute_result"
    }
   ],
   "source": [
    "arr_3 = np.random.rand(3, 5, 3)\n",
    "arr_3"
   ]
  },
  {
   "cell_type": "markdown",
   "id": "0f9b483f",
   "metadata": {},
   "source": [
    "2. Display the shape, size, and datatype of each array."
   ]
  },
  {
   "cell_type": "code",
   "execution_count": 15,
   "id": "7ec0c740",
   "metadata": {},
   "outputs": [
    {
     "name": "stdout",
     "output_type": "stream",
     "text": [
      "1D - Shape: (10,) Size: 10 Dtype: int32\n",
      "2D - Shape: (3, 3) Size: 9 Dtype: int32\n",
      "3D - Shape: (3, 5, 3) Size: 45 Dtype: float64\n"
     ]
    }
   ],
   "source": [
    "print(\"1D - Shape:\", arr_1.shape, \"Size:\", arr_1.size, \"Dtype:\", arr_1.dtype)\n",
    "print(\"2D - Shape:\", arr_2.shape, \"Size:\", arr_2.size, \"Dtype:\", arr_2.dtype)\n",
    "print(\"3D - Shape:\", arr_3.shape, \"Size:\", arr_3.size, \"Dtype:\", arr_3.dtype)"
   ]
  }
 ],
 "metadata": {
  "kernelspec": {
   "display_name": "Python 3",
   "language": "python",
   "name": "python3"
  },
  "language_info": {
   "codemirror_mode": {
    "name": "ipython",
    "version": 3
   },
   "file_extension": ".py",
   "mimetype": "text/x-python",
   "name": "python",
   "nbconvert_exporter": "python",
   "pygments_lexer": "ipython3",
   "version": "3.11.4"
  }
 },
 "nbformat": 4,
 "nbformat_minor": 5
}
