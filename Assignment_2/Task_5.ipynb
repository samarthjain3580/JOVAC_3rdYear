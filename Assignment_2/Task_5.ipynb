{
 "cells": [
  {
   "cell_type": "code",
   "execution_count": 20,
   "id": "e841cc65",
   "metadata": {},
   "outputs": [],
   "source": [
    "import numpy as np"
   ]
  },
  {
   "cell_type": "markdown",
   "id": "89796eb9",
   "metadata": {},
   "source": [
    "1. Create a NumPy array with 15 random integers between 10 and 50."
   ]
  },
  {
   "cell_type": "code",
   "execution_count": 21,
   "id": "2439e469",
   "metadata": {},
   "outputs": [
    {
     "data": {
      "text/plain": [
       "array([21, 50, 21, 34, 21, 45, 44, 29, 35, 22, 42, 22, 12, 36, 12])"
      ]
     },
     "execution_count": 21,
     "metadata": {},
     "output_type": "execute_result"
    }
   ],
   "source": [
    "arr = np.random.randint(10, 51, 15)\n",
    "arr"
   ]
  },
  {
   "cell_type": "markdown",
   "id": "5f501993",
   "metadata": {},
   "source": [
    "2. Write a Python program to:\n",
    "\n",
    "A. Find all elements greater than 25."
   ]
  },
  {
   "cell_type": "code",
   "execution_count": 22,
   "id": "5b27fa78",
   "metadata": {},
   "outputs": [
    {
     "data": {
      "text/plain": [
       "array([50, 34, 45, 44, 29, 35, 42, 36])"
      ]
     },
     "execution_count": 22,
     "metadata": {},
     "output_type": "execute_result"
    }
   ],
   "source": [
    "arr[arr > 25]"
   ]
  },
  {
   "cell_type": "markdown",
   "id": "b61bd682",
   "metadata": {},
   "source": [
    "B. Replace all elements less than 30 with 0."
   ]
  },
  {
   "cell_type": "code",
   "execution_count": 23,
   "id": "71fe6ace",
   "metadata": {},
   "outputs": [
    {
     "data": {
      "text/plain": [
       "array([ 0, 50,  0, 34,  0, 45, 44,  0, 35,  0, 42,  0,  0, 36,  0])"
      ]
     },
     "execution_count": 23,
     "metadata": {},
     "output_type": "execute_result"
    }
   ],
   "source": [
    "arr[arr < 30] = 0\n",
    "arr"
   ]
  },
  {
   "cell_type": "markdown",
   "id": "09559beb",
   "metadata": {},
   "source": [
    "C. Count the number of elements divisible by 5."
   ]
  },
  {
   "cell_type": "code",
   "execution_count": 24,
   "id": "67e24871",
   "metadata": {},
   "outputs": [
    {
     "data": {
      "text/plain": [
       "11"
      ]
     },
     "execution_count": 24,
     "metadata": {},
     "output_type": "execute_result"
    }
   ],
   "source": [
    "np.sum(arr % 5 == 0)"
   ]
  }
 ],
 "metadata": {
  "kernelspec": {
   "display_name": "Python 3",
   "language": "python",
   "name": "python3"
  },
  "language_info": {
   "codemirror_mode": {
    "name": "ipython",
    "version": 3
   },
   "file_extension": ".py",
   "mimetype": "text/x-python",
   "name": "python",
   "nbconvert_exporter": "python",
   "pygments_lexer": "ipython3",
   "version": "3.11.4"
  }
 },
 "nbformat": 4,
 "nbformat_minor": 5
}
