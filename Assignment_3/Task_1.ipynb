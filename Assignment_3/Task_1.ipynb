{
 "cells": [
  {
   "cell_type": "code",
   "execution_count": 8,
   "id": "399070b4",
   "metadata": {},
   "outputs": [],
   "source": [
    "import pandas as pd"
   ]
  },
  {
   "cell_type": "markdown",
   "id": "3d20add6",
   "metadata": {},
   "source": [
    "1. Create a Pandas Series from the following list: "
   ]
  },
  {
   "cell_type": "code",
   "execution_count": 2,
   "id": "f546a0ec",
   "metadata": {},
   "outputs": [],
   "source": [
    "data = [25, 30, 35, 40, 45]"
   ]
  },
  {
   "cell_type": "markdown",
   "id": "14b31eb8",
   "metadata": {},
   "source": [
    "2. Write a Python program to\n",
    " \n",
    "A. Assign custom indices ['A', 'B', 'C', 'D', 'E'] to the Series. "
   ]
  },
  {
   "cell_type": "code",
   "execution_count": 3,
   "id": "36c6be46",
   "metadata": {},
   "outputs": [],
   "source": [
    "series = pd.Series(data, index=['A', 'B', 'C', 'D', 'E'])"
   ]
  },
  {
   "cell_type": "markdown",
   "id": "0674ab16",
   "metadata": {},
   "source": [
    "B. Display the first three elements of the Series."
   ]
  },
  {
   "cell_type": "code",
   "execution_count": 5,
   "id": "364e0cc3",
   "metadata": {},
   "outputs": [
    {
     "data": {
      "text/plain": [
       "A    25\n",
       "B    30\n",
       "C    35\n",
       "dtype: int64"
      ]
     },
     "execution_count": 5,
     "metadata": {},
     "output_type": "execute_result"
    }
   ],
   "source": [
    "series.head(3)"
   ]
  },
  {
   "cell_type": "markdown",
   "id": "50ba3131",
   "metadata": {},
   "source": [
    "\n",
    "C. Calculate the mean, median, and standard deviation of the Series."
   ]
  },
  {
   "cell_type": "code",
   "execution_count": 7,
   "id": "4ee214d8",
   "metadata": {},
   "outputs": [
    {
     "name": "stdout",
     "output_type": "stream",
     "text": [
      "Mean: 35.0\n",
      "Median: 35.0\n",
      "Standard Deviation: 7.905694150420948\n"
     ]
    }
   ],
   "source": [
    "print(\"Mean:\", series.mean())\n",
    "print(\"Median:\", series.median())\n",
    "print(\"Standard Deviation:\", series.std())\n"
   ]
  }
 ],
 "metadata": {
  "kernelspec": {
   "display_name": "Python 3",
   "language": "python",
   "name": "python3"
  },
  "language_info": {
   "codemirror_mode": {
    "name": "ipython",
    "version": 3
   },
   "file_extension": ".py",
   "mimetype": "text/x-python",
   "name": "python",
   "nbconvert_exporter": "python",
   "pygments_lexer": "ipython3",
   "version": "3.11.4"
  }
 },
 "nbformat": 4,
 "nbformat_minor": 5
}
