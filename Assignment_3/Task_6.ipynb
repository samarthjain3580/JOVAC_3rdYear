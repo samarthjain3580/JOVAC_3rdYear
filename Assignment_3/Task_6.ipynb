{
 "cells": [
  {
   "cell_type": "code",
   "execution_count": 1,
   "id": "4ef6e3a8",
   "metadata": {},
   "outputs": [],
   "source": [
    "import pandas as pd"
   ]
  },
  {
   "cell_type": "code",
   "execution_count": 5,
   "id": "41cb3f4d",
   "metadata": {},
   "outputs": [],
   "source": [
    "data = pd.DataFrame({\n",
    "    'Name': ['Alice', 'Bob', 'Carol', 'David', 'Eve'],\n",
    "    'Age': [20, 22, 19, 21, 20],\n",
    "    'Gender': ['Female', 'Male', 'Female', 'Male', 'Female'],\n",
    "    'Marks': [85, 78, 92, 74, 88]\n",
    "})"
   ]
  },
  {
   "cell_type": "markdown",
   "id": "8d88f56a",
   "metadata": {},
   "source": [
    "1. Write a Python program to:\n",
    "\n",
    "A. Save the modified DataFrame from Task 4 to a CSV file named\n",
    "students_data.csv."
   ]
  },
  {
   "cell_type": "code",
   "execution_count": 6,
   "id": "801bc339",
   "metadata": {},
   "outputs": [],
   "source": [
    "data.to_csv(\"students_data.csv\", index=False)"
   ]
  },
  {
   "cell_type": "markdown",
   "id": "791e3d27",
   "metadata": {},
   "source": [
    "B. Read the CSV file into a new DataFrame."
   ]
  },
  {
   "cell_type": "code",
   "execution_count": 7,
   "id": "44e940c2",
   "metadata": {},
   "outputs": [],
   "source": [
    "df_loaded = pd.read_csv(\"students_data.csv\")"
   ]
  },
  {
   "cell_type": "markdown",
   "id": "18dec62e",
   "metadata": {},
   "source": [
    "C. Display the first five rows of the newly loaded DataFrame."
   ]
  },
  {
   "cell_type": "code",
   "execution_count": 8,
   "id": "90da02e5",
   "metadata": {},
   "outputs": [
    {
     "name": "stdout",
     "output_type": "stream",
     "text": [
      "    Name  Age  Gender  Marks\n",
      "0  Alice   20  Female     85\n",
      "1    Bob   22    Male     78\n",
      "2  Carol   19  Female     92\n",
      "3  David   21    Male     74\n",
      "4    Eve   20  Female     88\n"
     ]
    }
   ],
   "source": [
    "print(df_loaded.head())"
   ]
  }
 ],
 "metadata": {
  "kernelspec": {
   "display_name": "Python 3",
   "language": "python",
   "name": "python3"
  },
  "language_info": {
   "codemirror_mode": {
    "name": "ipython",
    "version": 3
   },
   "file_extension": ".py",
   "mimetype": "text/x-python",
   "name": "python",
   "nbconvert_exporter": "python",
   "pygments_lexer": "ipython3",
   "version": "3.11.4"
  }
 },
 "nbformat": 4,
 "nbformat_minor": 5
}
